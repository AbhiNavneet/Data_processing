{
 "cells": [
  {
   "cell_type": "code",
   "execution_count": 1,
   "id": "e9a3f7a6",
   "metadata": {},
   "outputs": [
    {
     "name": "stdout",
     "output_type": "stream",
     "text": [
      "Requirement already satisfied: numpy in /Users/techi.s./opt/anaconda3/lib/python3.9/site-packages (1.21.5)\n",
      "Note: you may need to restart the kernel to use updated packages.\n"
     ]
    }
   ],
   "source": [
    "pip install numpy"
   ]
  },
  {
   "cell_type": "code",
   "execution_count": 2,
   "id": "3ca31cdb",
   "metadata": {},
   "outputs": [],
   "source": [
    "import numpy as np"
   ]
  },
  {
   "cell_type": "code",
   "execution_count": 3,
   "id": "042efe19",
   "metadata": {},
   "outputs": [],
   "source": [
    "data_file ='KAG_Conversion_Data.csv'"
   ]
  },
  {
   "cell_type": "code",
   "execution_count": 47,
   "id": "bf56a0d3",
   "metadata": {},
   "outputs": [
    {
     "name": "stdout",
     "output_type": "stream",
     "text": [
      "\n",
      "Data: \n",
      "\n",
      " [[7.08746000e+05 9.16000000e+02 1.03916000e+05 ... 1.42999995e+00\n",
      "  2.00000000e+00 1.00000000e+00]\n",
      " [7.08749000e+05 9.16000000e+02 1.03917000e+05 ... 1.82000002e+00\n",
      "  2.00000000e+00 0.00000000e+00]\n",
      " [7.08771000e+05 9.16000000e+02 1.03920000e+05 ... 0.00000000e+00\n",
      "  1.00000000e+00 0.00000000e+00]\n",
      " ...\n",
      " [1.31441200e+06 1.17800000e+03 1.79979000e+05 ... 4.02899995e+01\n",
      "  2.00000000e+00 0.00000000e+00]\n",
      " [1.31441400e+06 1.17800000e+03 1.79981000e+05 ... 1.98710001e+02\n",
      "  8.00000000e+00 2.00000000e+00]\n",
      " [1.31441500e+06 1.17800000e+03 1.79982000e+05 ... 1.65609999e+02\n",
      "  5.00000000e+00 2.00000000e+00]]\n"
     ]
    }
   ],
   "source": [
    "data = np.genfromtxt(data_file, delimiter=\",\", skip_header=1)\n",
    "data1 = np.genfromtxt(data_file, delimiter=\",\", skip_header=1,dtype='str')\n",
    "# printing the data\n",
    "\n",
    "print(\"\\nData: \\n\\n\", data)"
   ]
  },
  {
   "cell_type": "code",
   "execution_count": 5,
   "id": "ea489066",
   "metadata": {},
   "outputs": [
    {
     "name": "stdout",
     "output_type": "stream",
     "text": [
      "\n",
      "Type of data: \n",
      "\n",
      " <class 'numpy.ndarray'>\n"
     ]
    }
   ],
   "source": [
    "print(\"\\nType of data: \\n\\n\", type(data))"
   ]
  },
  {
   "cell_type": "code",
   "execution_count": 11,
   "id": "c9aaf3d0",
   "metadata": {},
   "outputs": [],
   "source": [
    "uni_camp = np.unique(data[:,1], return_counts=True)"
   ]
  },
  {
   "cell_type": "code",
   "execution_count": 12,
   "id": "7083f35e",
   "metadata": {},
   "outputs": [
    {
     "data": {
      "text/plain": [
       "(array([ 916.,  936., 1178.]), array([ 54, 464, 625]))"
      ]
     },
     "execution_count": 12,
     "metadata": {},
     "output_type": "execute_result"
    }
   ],
   "source": [
    "uni_camp"
   ]
  },
  {
   "cell_type": "code",
   "execution_count": 52,
   "id": "7efbfdaa",
   "metadata": {},
   "outputs": [],
   "source": [
    "age_grp = np.unique(data1[:,3], return_counts = True)"
   ]
  },
  {
   "cell_type": "code",
   "execution_count": 53,
   "id": "e7001edc",
   "metadata": {},
   "outputs": [
    {
     "data": {
      "text/plain": [
       "(array(['30-34', '35-39', '40-44', '45-49'], dtype='<U11'),\n",
       " array([426, 248, 210, 259]))"
      ]
     },
     "execution_count": 53,
     "metadata": {},
     "output_type": "execute_result"
    }
   ],
   "source": [
    "age_grp"
   ]
  },
  {
   "cell_type": "code",
   "execution_count": 26,
   "id": "b0f3aa07",
   "metadata": {},
   "outputs": [],
   "source": [
    "spnt = np.unique(data[:,8])"
   ]
  },
  {
   "cell_type": "code",
   "execution_count": 28,
   "id": "114cf854",
   "metadata": {},
   "outputs": [
    {
     "data": {
      "text/plain": [
       "0.0"
      ]
     },
     "execution_count": 28,
     "metadata": {},
     "output_type": "execute_result"
    }
   ],
   "source": [
    "np.min(spnt)"
   ]
  },
  {
   "cell_type": "code",
   "execution_count": 29,
   "id": "acc7ec01",
   "metadata": {},
   "outputs": [
    {
     "data": {
      "text/plain": [
       "639.9499981"
      ]
     },
     "execution_count": 29,
     "metadata": {},
     "output_type": "execute_result"
    }
   ],
   "source": [
    "np.max(spnt)"
   ]
  },
  {
   "cell_type": "code",
   "execution_count": 30,
   "id": "17d8d413",
   "metadata": {},
   "outputs": [
    {
     "data": {
      "text/plain": [
       "67.389884877084"
      ]
     },
     "execution_count": 30,
     "metadata": {},
     "output_type": "execute_result"
    }
   ],
   "source": [
    "np.mean(spnt)"
   ]
  },
  {
   "cell_type": "code",
   "execution_count": 39,
   "id": "e7133349",
   "metadata": {},
   "outputs": [],
   "source": [
    "max_click_ad = np.max(data[:,7])"
   ]
  },
  {
   "cell_type": "code",
   "execution_count": 40,
   "id": "d1023639",
   "metadata": {},
   "outputs": [],
   "source": [
    "max_click_ind = list(data[:,7]).index(max_click_ad)"
   ]
  },
  {
   "cell_type": "code",
   "execution_count": 41,
   "id": "4e5621fa",
   "metadata": {},
   "outputs": [
    {
     "data": {
      "text/plain": [
       "860"
      ]
     },
     "execution_count": 41,
     "metadata": {},
     "output_type": "execute_result"
    }
   ],
   "source": [
    "max_click_ind"
   ]
  },
  {
   "cell_type": "code",
   "execution_count": 44,
   "id": "d236682a",
   "metadata": {},
   "outputs": [
    {
     "name": "stdout",
     "output_type": "stream",
     "text": [
      "[1121814.]\n"
     ]
    }
   ],
   "source": [
    "print(data[860:861,0])"
   ]
  },
  {
   "cell_type": "code",
   "execution_count": 37,
   "id": "083733cd",
   "metadata": {},
   "outputs": [],
   "source": [
    "conv = np.sum(data[:,10])"
   ]
  },
  {
   "cell_type": "code",
   "execution_count": 38,
   "id": "331aef90",
   "metadata": {},
   "outputs": [
    {
     "data": {
      "text/plain": [
       "1079.0"
      ]
     },
     "execution_count": 38,
     "metadata": {},
     "output_type": "execute_result"
    }
   ],
   "source": [
    "conv"
   ]
  },
  {
   "cell_type": "code",
   "execution_count": 43,
   "id": "df58e057",
   "metadata": {},
   "outputs": [
    {
     "name": "stdout",
     "output_type": "stream",
     "text": [
      "[13.]\n"
     ]
    }
   ],
   "source": [
    "print(data[860:861,10])"
   ]
  },
  {
   "cell_type": "code",
   "execution_count": 45,
   "id": "3dbf9c0a",
   "metadata": {},
   "outputs": [
    {
     "name": "stdout",
     "output_type": "stream",
     "text": [
      "[[1.12181400e+06 1.17800000e+03 1.44659000e+05            nan\n",
      "             nan 2.70000000e+01 2.22327800e+06 4.21000000e+02\n",
      "  6.12300003e+02 3.80000000e+01 1.30000000e+01]]\n"
     ]
    }
   ],
   "source": [
    "print(data[860:861,])"
   ]
  },
  {
   "cell_type": "code",
   "execution_count": null,
   "id": "cb1b7f29",
   "metadata": {},
   "outputs": [],
   "source": []
  }
 ],
 "metadata": {
  "kernelspec": {
   "display_name": "Python 3 (ipykernel)",
   "language": "python",
   "name": "python3"
  },
  "language_info": {
   "codemirror_mode": {
    "name": "ipython",
    "version": 3
   },
   "file_extension": ".py",
   "mimetype": "text/x-python",
   "name": "python",
   "nbconvert_exporter": "python",
   "pygments_lexer": "ipython3",
   "version": "3.9.12"
  }
 },
 "nbformat": 4,
 "nbformat_minor": 5
}
